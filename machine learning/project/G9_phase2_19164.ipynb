{
  "nbformat": 4,
  "nbformat_minor": 0,
  "metadata": {
    "colab": {
      "name": "project1.ipynb",
      "provenance": []
    },
    "kernelspec": {
      "name": "python3",
      "display_name": "Python 3"
    },
    "language_info": {
      "name": "python"
    }
  },
  "cells": [
    {
      "cell_type": "code",
      "metadata": {
        "colab": {
          "base_uri": "https://localhost:8080/",
          "height": 0
        },
        "id": "AueucQQnNSBJ",
        "outputId": "d6b6eeed-83bc-43b2-f87d-ea0aae97d93b"
      },
      "source": [
        "print(\"I Shyam Prasad\",'\\n',\"AM.EN.U4CSE19164\")"
      ],
      "execution_count": 111,
      "outputs": [
        {
          "output_type": "stream",
          "name": "stdout",
          "text": [
            "I Shyam Prasad \n",
            " AM.EN.U4CSE19164\n"
          ]
        }
      ]
    },
    {
      "cell_type": "markdown",
      "metadata": {
        "id": "ZERXmuWoOVlc"
      },
      "source": [
        "# Sentiment Analysis of Hotel reviews\n"
      ]
    },
    {
      "cell_type": "markdown",
      "metadata": {
        "id": "LptD5sJxv7A1"
      },
      "source": [
        "**Problem statement**\n",
        "\n",
        "\n"
      ]
    },
    {
      "cell_type": "markdown",
      "metadata": {
        "id": "CP9rJDrJv84l"
      },
      "source": [
        "Hotels play a crucial role in traveling and with the increased access to information new pathways of selecting the best ones emerged. And some times it becomes hard for hotels to clasify good and bad reviews.\n",
        "With this dataset, consisting of 20k reviews crawled from Tripadvisor we are going to clasify whether a review is good or bad, if the customer is happy or unhappy."
      ]
    },
    {
      "cell_type": "markdown",
      "metadata": {
        "id": "HJCaOEJgwCEi"
      },
      "source": [
        "**Dataset**"
      ]
    },
    {
      "cell_type": "markdown",
      "metadata": {
        "id": "j7FhMWTxwEc3"
      },
      "source": [
        "This data set is from Tripadvisor, World's largest travel platform. They collect hundreds of millions of traveller reviews and opinions from customers. This dataset consists of following features.\n",
        "\n",
        "https://www.kaggle.com/andrewmvd/trip-advisor-hotel-reviews\n",
        "\n",
        "\n",
        "*   review\n",
        "*   Rating\n",
        "\n",
        "\n",
        "\n",
        "\n",
        "\n",
        "\n",
        "\n",
        "\n",
        "\n",
        "\n",
        "\n",
        "\n",
        "\n"
      ]
    },
    {
      "cell_type": "markdown",
      "metadata": {
        "id": "G_1Nv6j1wRrZ"
      },
      "source": [
        "**Python Pakages**"
      ]
    },
    {
      "cell_type": "markdown",
      "metadata": {
        "id": "HsSfbT7jwVv3"
      },
      "source": [
        "In the older days, people used to perform Machine Learning tasks by manually coding all the algorithms and mathematical and \n",
        "statistical formula. This made the process time consuming, tedious and inefficient. But in the modern days, it is become \n",
        "very much easy and efficient compared to the olden days by various python libraries, frameworks, and modules. Today, Python \n",
        "is one of the most popular programming languages for this task and it has replaced many languages in the industry, one of \n",
        "the reason is its vast collection of libraries. Python libraries that used in Machine Learning are: \n",
        " \n",
        "\n",
        "\n",
        "*   Numpy\n",
        "*   Pandas\n",
        "*   Matplotlib\n",
        "*   Seaborn\n",
        "*   Sklearn\n",
        "*   Nltk (stopwords, WordNetLemmatizer)\n",
        "*   Regular Expression\n",
        "\n",
        "\n",
        "\n",
        "\n",
        "\n",
        "\n",
        "\n",
        "\n",
        "\n"
      ]
    },
    {
      "cell_type": "code",
      "metadata": {
        "id": "D8QDaU2RxnWa",
        "colab": {
          "base_uri": "https://localhost:8080/",
          "height": 0
        },
        "outputId": "0da8dc8b-f5b0-44b7-81a3-45f5cb2566c9"
      },
      "source": [
        "#import and download modules and pakages.\n",
        "\n",
        "import pandas as pd\n",
        "import numpy as np\n",
        "import nltk\n",
        "import matplotlib.pyplot as plt\n",
        "\n",
        "import re\n",
        "from nltk.corpus import stopwords\n",
        "import seaborn as sns\n",
        "\n",
        "\n",
        "nltk.download('stopwords')\n",
        "nltk.download('wordnet')\n"
      ],
      "execution_count": 37,
      "outputs": [
        {
          "output_type": "stream",
          "name": "stdout",
          "text": [
            "[nltk_data] Downloading package stopwords to /root/nltk_data...\n",
            "[nltk_data]   Package stopwords is already up-to-date!\n",
            "[nltk_data] Downloading package wordnet to /root/nltk_data...\n",
            "[nltk_data]   Package wordnet is already up-to-date!\n"
          ]
        },
        {
          "output_type": "execute_result",
          "data": {
            "text/plain": [
              "True"
            ]
          },
          "metadata": {},
          "execution_count": 37
        }
      ]
    },
    {
      "cell_type": "code",
      "metadata": {
        "colab": {
          "base_uri": "https://localhost:8080/",
          "height": 35
        },
        "id": "KmNxSTj5cskV",
        "outputId": "979a0337-13ed-456a-f04c-67f7ddfc9a02"
      },
      "source": [
        "pwd"
      ],
      "execution_count": 38,
      "outputs": [
        {
          "output_type": "execute_result",
          "data": {
            "application/vnd.google.colaboratory.intrinsic+json": {
              "type": "string"
            },
            "text/plain": [
              "'/content'"
            ]
          },
          "metadata": {},
          "execution_count": 38
        }
      ]
    },
    {
      "cell_type": "markdown",
      "metadata": {
        "id": "zD8Ak6hQxbYD"
      },
      "source": [
        "**Data Preparation**"
      ]
    },
    {
      "cell_type": "markdown",
      "metadata": {
        "id": "A0uggQBExmYg"
      },
      "source": [
        "Summarization: \n"
      ]
    },
    {
      "cell_type": "code",
      "metadata": {
        "id": "LLhhridh5qCd",
        "colab": {
          "base_uri": "https://localhost:8080/",
          "height": 0
        },
        "outputId": "2a472f8a-9024-4ad9-e838-c329bb1baee4"
      },
      "source": [
        "#loading the dataset and describing it.\n",
        "df = pd.read_csv('/content/drive/MyDrive/datasets/tripadvisor_hotel_reviews.csv')\n",
        "print(df.head())\n",
        "print('\\n\\n')\n",
        "print(df.describe().transpose())\n",
        "print('\\n\\n')\n",
        "df['Rating'].value_counts()\n"
      ],
      "execution_count": 39,
      "outputs": [
        {
          "output_type": "stream",
          "name": "stdout",
          "text": [
            "                                              Review  Rating\n",
            "0  nice hotel expensive parking got good deal sta...       4\n",
            "1  ok nothing special charge diamond member hilto...       2\n",
            "2  nice rooms not 4* experience hotel monaco seat...       3\n",
            "3  unique, great stay, wonderful time hotel monac...       5\n",
            "4  great stay great stay, went seahawk game aweso...       5\n",
            "\n",
            "\n",
            "\n",
            "          count      mean      std  min  25%  50%  75%  max\n",
            "Rating  20491.0  3.952223  1.23303  1.0  3.0  4.0  5.0  5.0\n",
            "\n",
            "\n",
            "\n"
          ]
        },
        {
          "output_type": "execute_result",
          "data": {
            "text/plain": [
              "5    9054\n",
              "4    6039\n",
              "3    2184\n",
              "2    1793\n",
              "1    1421\n",
              "Name: Rating, dtype: int64"
            ]
          },
          "metadata": {},
          "execution_count": 39
        }
      ]
    },
    {
      "cell_type": "markdown",
      "metadata": {
        "id": "-f6SGus_zTW1"
      },
      "source": [
        "**Data Visualization**"
      ]
    },
    {
      "cell_type": "code",
      "metadata": {
        "colab": {
          "base_uri": "https://localhost:8080/",
          "height": 295
        },
        "id": "x7thr_LdyQk0",
        "outputId": "33606538-9dd6-4aa0-d793-35a0a952a206"
      },
      "source": [
        "\n",
        "sns.countplot(x=df['Rating'],palette='summer')\n",
        "plt.title('Class Distribution')\n",
        "plt.show()"
      ],
      "execution_count": 41,
      "outputs": [
        {
          "output_type": "display_data",
          "data": {
            "image/png": "[encoded data removed]",
            "text/plain": [
              "<Figure size 432x288 with 1 Axes>"
            ]
          },
          "metadata": {
            "needs_background": "light"
          }
        }
      ]
    },
    {
      "cell_type": "code",
      "metadata": {
        "colab": {
          "base_uri": "https://localhost:8080/",
          "height": 668
        },
        "id": "LziXL-eJzvVd",
        "outputId": "9fa4e5de-1432-41f9-8c6a-3b4185db0765"
      },
      "source": [
        "df1 = df.loc[(df.Rating < 3)]\n",
        "print(df1)\n",
        "df1 = df1.reset_index(drop=True)\n",
        "sum(df1['Rating'].value_counts())\n",
        "df1\n"
      ],
      "execution_count": 48,
      "outputs": [
        {
          "output_type": "stream",
          "name": "stdout",
          "text": [
            "                                                  Review  Rating\n",
            "1      ok nothing special charge diamond member hilto...       2\n",
            "10     poor value stayed monaco seattle july, nice ho...       2\n",
            "15     horrible customer service hotel stay february ...       1\n",
            "16     disappointed say anticipating stay hotel monac...       2\n",
            "24     great location need internally upgrade advanta...       2\n",
            "...                                                  ...     ...\n",
            "20484  deceptive staff deceptive desk staff claiming ...       2\n",
            "20485  not impressed unfriendly staff checked asked h...       2\n",
            "20488  ok just looks nice modern outside, desk staff ...       2\n",
            "20489  hotel theft ruined vacation hotel opened sept ...       1\n",
            "20490  people talking, ca n't believe excellent ratin...       2\n",
            "\n",
            "[3214 rows x 2 columns]\n"
          ]
        },
        {
          "output_type": "execute_result",
          "data": {
            "text/html": [
              "<div>\n",
              "<style scoped>\n",
              "    .dataframe tbody tr th:only-of-type {\n",
              "        vertical-align: middle;\n",
              "    }\n",
              "\n",
              "    .dataframe tbody tr th {\n",
              "        vertical-align: top;\n",
              "    }\n",
              "\n",
              "    .dataframe thead th {\n",
              "        text-align: right;\n",
              "    }\n",
              "</style>\n",
              "<table border=\"1\" class=\"dataframe\">\n",
              "  <thead>\n",
              "    <tr style=\"text-align: right;\">\n",
              "      <th></th>\n",
              "      <th>Review</th>\n",
              "      <th>Rating</th>\n",
              "    </tr>\n",
              "  </thead>\n",
              "  <tbody>\n",
              "    <tr>\n",
              "      <th>0</th>\n",
              "      <td>ok nothing special charge diamond member hilto...</td>\n",
              "      <td>2</td>\n",
              "    </tr>\n",
              "    <tr>\n",
              "      <th>1</th>\n",
              "      <td>poor value stayed monaco seattle july, nice ho...</td>\n",
              "      <td>2</td>\n",
              "    </tr>\n",
              "    <tr>\n",
              "      <th>2</th>\n",
              "      <td>horrible customer service hotel stay february ...</td>\n",
              "      <td>1</td>\n",
              "    </tr>\n",
              "    <tr>\n",
              "      <th>3</th>\n",
              "      <td>disappointed say anticipating stay hotel monac...</td>\n",
              "      <td>2</td>\n",
              "    </tr>\n",
              "    <tr>\n",
              "      <th>4</th>\n",
              "      <td>great location need internally upgrade advanta...</td>\n",
              "      <td>2</td>\n",
              "    </tr>\n",
              "    <tr>\n",
              "      <th>...</th>\n",
              "      <td>...</td>\n",
              "      <td>...</td>\n",
              "    </tr>\n",
              "    <tr>\n",
              "      <th>3209</th>\n",
              "      <td>deceptive staff deceptive desk staff claiming ...</td>\n",
              "      <td>2</td>\n",
              "    </tr>\n",
              "    <tr>\n",
              "      <th>3210</th>\n",
              "      <td>not impressed unfriendly staff checked asked h...</td>\n",
              "      <td>2</td>\n",
              "    </tr>\n",
              "    <tr>\n",
              "      <th>3211</th>\n",
              "      <td>ok just looks nice modern outside, desk staff ...</td>\n",
              "      <td>2</td>\n",
              "    </tr>\n",
              "    <tr>\n",
              "      <th>3212</th>\n",
              "      <td>hotel theft ruined vacation hotel opened sept ...</td>\n",
              "      <td>1</td>\n",
              "    </tr>\n",
              "    <tr>\n",
              "      <th>3213</th>\n",
              "      <td>people talking, ca n't believe excellent ratin...</td>\n",
              "      <td>2</td>\n",
              "    </tr>\n",
              "  </tbody>\n",
              "</table>\n",
              "<p>3214 rows × 2 columns</p>\n",
              "</div>"
            ],
            "text/plain": [
              "                                                 Review  Rating\n",
              "0     ok nothing special charge diamond member hilto...       2\n",
              "1     poor value stayed monaco seattle july, nice ho...       2\n",
              "2     horrible customer service hotel stay february ...       1\n",
              "3     disappointed say anticipating stay hotel monac...       2\n",
              "4     great location need internally upgrade advanta...       2\n",
              "...                                                 ...     ...\n",
              "3209  deceptive staff deceptive desk staff claiming ...       2\n",
              "3210  not impressed unfriendly staff checked asked h...       2\n",
              "3211  ok just looks nice modern outside, desk staff ...       2\n",
              "3212  hotel theft ruined vacation hotel opened sept ...       1\n",
              "3213  people talking, ca n't believe excellent ratin...       2\n",
              "\n",
              "[3214 rows x 2 columns]"
            ]
          },
          "metadata": {},
          "execution_count": 48
        }
      ]
    },
    {
      "cell_type": "code",
      "metadata": {
        "id": "QnT6j4lFOLht",
        "colab": {
          "base_uri": "https://localhost:8080/",
          "height": 419
        },
        "outputId": "bd314fc3-effe-4b28-a552-b196b0d348f9"
      },
      "source": [
        "df2 = df.loc[(df.Rating == 5)]\n",
        "df2 = df2.reset_index(drop=True)\n",
        "df_pos = df2.loc[:len(df1)]\n",
        "df_pos['Rating'].value_counts()\n",
        "df_all = pd.concat([df1,df2],axis=0)\n",
        "\n",
        "df_all = df_all.reset_index(drop=True)\n",
        "df_all"
      ],
      "execution_count": 49,
      "outputs": [
        {
          "output_type": "execute_result",
          "data": {
            "text/html": [
              "<div>\n",
              "<style scoped>\n",
              "    .dataframe tbody tr th:only-of-type {\n",
              "        vertical-align: middle;\n",
              "    }\n",
              "\n",
              "    .dataframe tbody tr th {\n",
              "        vertical-align: top;\n",
              "    }\n",
              "\n",
              "    .dataframe thead th {\n",
              "        text-align: right;\n",
              "    }\n",
              "</style>\n",
              "<table border=\"1\" class=\"dataframe\">\n",
              "  <thead>\n",
              "    <tr style=\"text-align: right;\">\n",
              "      <th></th>\n",
              "      <th>Review</th>\n",
              "      <th>Rating</th>\n",
              "    </tr>\n",
              "  </thead>\n",
              "  <tbody>\n",
              "    <tr>\n",
              "      <th>0</th>\n",
              "      <td>ok nothing special charge diamond member hilto...</td>\n",
              "      <td>2</td>\n",
              "    </tr>\n",
              "    <tr>\n",
              "      <th>1</th>\n",
              "      <td>poor value stayed monaco seattle july, nice ho...</td>\n",
              "      <td>2</td>\n",
              "    </tr>\n",
              "    <tr>\n",
              "      <th>2</th>\n",
              "      <td>horrible customer service hotel stay february ...</td>\n",
              "      <td>1</td>\n",
              "    </tr>\n",
              "    <tr>\n",
              "      <th>3</th>\n",
              "      <td>disappointed say anticipating stay hotel monac...</td>\n",
              "      <td>2</td>\n",
              "    </tr>\n",
              "    <tr>\n",
              "      <th>4</th>\n",
              "      <td>great location need internally upgrade advanta...</td>\n",
              "      <td>2</td>\n",
              "    </tr>\n",
              "    <tr>\n",
              "      <th>...</th>\n",
              "      <td>...</td>\n",
              "      <td>...</td>\n",
              "    </tr>\n",
              "    <tr>\n",
              "      <th>12263</th>\n",
              "      <td>best best reason affordable better hotels city...</td>\n",
              "      <td>5</td>\n",
              "    </tr>\n",
              "    <tr>\n",
              "      <th>12264</th>\n",
              "      <td>night not trust not disappointed stay hotel, s...</td>\n",
              "      <td>5</td>\n",
              "    </tr>\n",
              "    <tr>\n",
              "      <th>12265</th>\n",
              "      <td>great play stay stay loyal inn package deal ha...</td>\n",
              "      <td>5</td>\n",
              "    </tr>\n",
              "    <tr>\n",
              "      <th>12266</th>\n",
              "      <td>great choice wife chose best western quite bit...</td>\n",
              "      <td>5</td>\n",
              "    </tr>\n",
              "    <tr>\n",
              "      <th>12267</th>\n",
              "      <td>best kept secret 3rd time staying charm, not 5...</td>\n",
              "      <td>5</td>\n",
              "    </tr>\n",
              "  </tbody>\n",
              "</table>\n",
              "<p>12268 rows × 2 columns</p>\n",
              "</div>"
            ],
            "text/plain": [
              "                                                  Review  Rating\n",
              "0      ok nothing special charge diamond member hilto...       2\n",
              "1      poor value stayed monaco seattle july, nice ho...       2\n",
              "2      horrible customer service hotel stay february ...       1\n",
              "3      disappointed say anticipating stay hotel monac...       2\n",
              "4      great location need internally upgrade advanta...       2\n",
              "...                                                  ...     ...\n",
              "12263  best best reason affordable better hotels city...       5\n",
              "12264  night not trust not disappointed stay hotel, s...       5\n",
              "12265  great play stay stay loyal inn package deal ha...       5\n",
              "12266  great choice wife chose best western quite bit...       5\n",
              "12267  best kept secret 3rd time staying charm, not 5...       5\n",
              "\n",
              "[12268 rows x 2 columns]"
            ]
          },
          "metadata": {},
          "execution_count": 49
        }
      ]
    },
    {
      "cell_type": "code",
      "metadata": {
        "colab": {
          "base_uri": "https://localhost:8080/",
          "height": 419
        },
        "id": "cr5R5tfLQNYY",
        "outputId": "6cc591e9-f8f3-4d8f-b83b-7dac0f4c386f"
      },
      "source": [
        "df_all['sentiment'] = np.where(df_all['Rating']== 5,\"happy\",\"unhappy\")\n",
        "df_all = df_all.sample(frac=1)\n",
        "df_eng = df_all.reset_index(drop=True)\n",
        "df_eng"
      ],
      "execution_count": 60,
      "outputs": [
        {
          "output_type": "execute_result",
          "data": {
            "text/html": [
              "<div>\n",
              "<style scoped>\n",
              "    .dataframe tbody tr th:only-of-type {\n",
              "        vertical-align: middle;\n",
              "    }\n",
              "\n",
              "    .dataframe tbody tr th {\n",
              "        vertical-align: top;\n",
              "    }\n",
              "\n",
              "    .dataframe thead th {\n",
              "        text-align: right;\n",
              "    }\n",
              "</style>\n",
              "<table border=\"1\" class=\"dataframe\">\n",
              "  <thead>\n",
              "    <tr style=\"text-align: right;\">\n",
              "      <th></th>\n",
              "      <th>Review</th>\n",
              "      <th>Rating</th>\n",
              "      <th>sentiment</th>\n",
              "    </tr>\n",
              "  </thead>\n",
              "  <tbody>\n",
              "    <tr>\n",
              "      <th>0</th>\n",
              "      <td>bugs, say best thing resort beautiful beach gr...</td>\n",
              "      <td>2</td>\n",
              "      <td>unhappy</td>\n",
              "    </tr>\n",
              "    <tr>\n",
              "      <th>1</th>\n",
              "      <td>disappointing n't waste money booked hotel hus...</td>\n",
              "      <td>1</td>\n",
              "      <td>unhappy</td>\n",
              "    </tr>\n",
              "    <tr>\n",
              "      <th>2</th>\n",
              "      <td>hole dont hotel raised ground not seen arrived...</td>\n",
              "      <td>1</td>\n",
              "      <td>unhappy</td>\n",
              "    </tr>\n",
              "    <tr>\n",
              "      <th>3</th>\n",
              "      <td>great service read lot hotel tripadvisor certa...</td>\n",
              "      <td>5</td>\n",
              "      <td>happy</td>\n",
              "    </tr>\n",
              "    <tr>\n",
              "      <th>4</th>\n",
              "      <td>water club best, wife just returned fantastic ...</td>\n",
              "      <td>5</td>\n",
              "      <td>happy</td>\n",
              "    </tr>\n",
              "    <tr>\n",
              "      <th>...</th>\n",
              "      <td>...</td>\n",
              "      <td>...</td>\n",
              "      <td>...</td>\n",
              "    </tr>\n",
              "    <tr>\n",
              "      <th>12263</th>\n",
              "      <td>definitely come, happy stayed maya, service gr...</td>\n",
              "      <td>5</td>\n",
              "      <td>happy</td>\n",
              "    </tr>\n",
              "    <tr>\n",
              "      <th>12264</th>\n",
              "      <td>ripped bad service rooms lovely loft 523 bewar...</td>\n",
              "      <td>2</td>\n",
              "      <td>unhappy</td>\n",
              "    </tr>\n",
              "    <tr>\n",
              "      <th>12265</th>\n",
              "      <td>not good choice barcelona stayed princess sofi...</td>\n",
              "      <td>2</td>\n",
              "      <td>unhappy</td>\n",
              "    </tr>\n",
              "    <tr>\n",
              "      <th>12266</th>\n",
              "      <td>fabulous softest bed great location booked sof...</td>\n",
              "      <td>5</td>\n",
              "      <td>happy</td>\n",
              "    </tr>\n",
              "    <tr>\n",
              "      <th>12267</th>\n",
              "      <td>luxury experience stayed grand hyatt weekend t...</td>\n",
              "      <td>5</td>\n",
              "      <td>happy</td>\n",
              "    </tr>\n",
              "  </tbody>\n",
              "</table>\n",
              "<p>12268 rows × 3 columns</p>\n",
              "</div>"
            ],
            "text/plain": [
              "                                                  Review  Rating sentiment\n",
              "0      bugs, say best thing resort beautiful beach gr...       2   unhappy\n",
              "1      disappointing n't waste money booked hotel hus...       1   unhappy\n",
              "2      hole dont hotel raised ground not seen arrived...       1   unhappy\n",
              "3      great service read lot hotel tripadvisor certa...       5     happy\n",
              "4      water club best, wife just returned fantastic ...       5     happy\n",
              "...                                                  ...     ...       ...\n",
              "12263  definitely come, happy stayed maya, service gr...       5     happy\n",
              "12264  ripped bad service rooms lovely loft 523 bewar...       2   unhappy\n",
              "12265  not good choice barcelona stayed princess sofi...       2   unhappy\n",
              "12266  fabulous softest bed great location booked sof...       5     happy\n",
              "12267  luxury experience stayed grand hyatt weekend t...       5     happy\n",
              "\n",
              "[12268 rows x 3 columns]"
            ]
          },
          "metadata": {},
          "execution_count": 60
        }
      ]
    },
    {
      "cell_type": "markdown",
      "metadata": {
        "id": "PZUJYZoF3TyF"
      },
      "source": [
        "we need some bias values as not many give bad feedback."
      ]
    },
    {
      "cell_type": "code",
      "metadata": {
        "colab": {
          "base_uri": "https://localhost:8080/",
          "height": 295
        },
        "id": "lr5mqLfBzepL",
        "outputId": "27ace030-ca16-4665-ea6c-32f94abd6f5b"
      },
      "source": [
        "\n",
        "sns.countplot(x=df_eng['sentiment'],palette='summer')\n",
        "plt.title('Class Distribution')\n",
        "plt.show()"
      ],
      "execution_count": 61,
      "outputs": [
        {
          "output_type": "display_data",
          "data": {
            "image/png": "[encoded data removed]",
            "text/plain": [
              "<Figure size 432x288 with 1 Axes>"
            ]
          },
          "metadata": {
            "needs_background": "light"
          }
        }
      ]
    },
    {
      "cell_type": "code",
      "metadata": {
        "id": "30kG_qj963PA"
      },
      "source": [
        "\"\"\"\n",
        "\n",
        "Data Preprocessing: here we are tokenizing each sentence into words(tokens) and removing stopwords( eg. a, an, in...) because they are redundant.\n",
        "we are stemming each words to get their normal form (e.g. wolves to wolf, stayed to stay) by using lemmatizer.\n",
        "\n",
        "\"\"\"\n",
        "\n",
        "\n",
        "from nltk.stem import WordNetLemmatizer\n",
        "stemmer = WordNetLemmatizer()\n",
        "stop_words = set(stopwords.words('english'))\n",
        "temp = []\n",
        "\n",
        "# class model_func:\n",
        "#   def __init__(self):\n",
        "\n",
        "\n",
        "def text_preprocessing(df1):\n",
        "  for i in df1:\n",
        "    review = re.sub('[^a-zA-z]',' ',i)\n",
        "    review = review.lower()\n",
        "    review = review.split()\n",
        "    review = [stemmer.lemmatize(word) for word in review if word not in  stop_words]\n",
        "    review = ' '.join(review)\n",
        "    temp.append(review)\n",
        "  # df_clean = pd.DataFrame(temp, columns = ['Description'])\n",
        "  # df_clean['Is_Response'] = df['Is_Response']\n",
        "  return temp\n",
        "\n",
        "def text_test_preprocessing(x):\n",
        "    review = re.sub('[^a-zA-z]',' ',x)\n",
        "    review = review.lower()\n",
        "    review = review.split()\n",
        "    review = [stemmer.lemmatize(word) for word in review if word not in  stop_words]\n",
        "    review = ' '.join(review)\n",
        "    return review"
      ],
      "execution_count": 62,
      "outputs": []
    },
    {
      "cell_type": "code",
      "metadata": {
        "colab": {
          "base_uri": "https://localhost:8080/",
          "height": 0
        },
        "id": "pcoM1dmi7EoF",
        "outputId": "2acdbf51-5e3e-45d3-9c7b-588f71a49013"
      },
      "source": [
        "#Before Text Preprocessing\n",
        "print(df_eng['Review'][0])"
      ],
      "execution_count": 8,
      "outputs": [
        {
          "output_type": "stream",
          "name": "stdout",
          "text": [
            "warning beware bahia principe written reviews time feel compelled speak mind went bahia principe punta cana 20-27 2006 honeymoon excited trip, booked trip apple vacations, used times going mexico turned great.we arrived pc airport apple rep waiting, trip airport resort 1/2 hour bit longer depending traffic, roads quite bumpy rough, no problem, check went smoothly, got room upgraded golden club villa 3 room decorated ballons flowers towel art bed bottle rum t-shirts fruit basket, far good thought, room bit warm no problem, upgraded n't big deal se, nice close pool beach, took train buffet days 15 min walk night mosquitos hungry, lazy took train runs middle oof resort 5 minutes so.in opinion resort beautiful, pools nice, rooms junior suites include jacuzzi albeit noisy jets n't work great, step tub/shower combination high beware, floor tile marble slippery, food good, yes little repetitious days quite good, wednesday night prime rib lobster night buffet, n't miss, did not speciality restaurants apple rep said men need wear long pants restaurants, said buffet area lenient booked speciality restaurant, think 7 resort, bad, arrived saturday noticed room warm, tuesday night entire resort lost air conditioning, sleeping unbearable heat humidity, mosquitos biting night, killed room feasted, not open patio doors mosquitos, no screens sliding glass doors basically useless.we complained a/c desk told wednesday a/c working, not, like add make daily trips desk got locked room re-issued key cards, went 5 7 days, a/c not working time left following saturday means a/c 4 7 days, pools like bath water think cooling problem spent time beach water bit refreshing, husband did n't mind, enjoyed view topless women, complained a/c occasions got, day told working particular day feel got lie, not offered compensation, apple rep told pursue matter apple returned u.s. say cleaning staff wait staff bartenders work hard accommodating need, staff desk care, need lesson customer service, staff inside golden principe club not better, fact walked complain a/c noticed nice cool, a/c unit cared guests, complaints went unanswered truly felt did n't damn.the resort 1500 rooms large place villas 3 story buildings, grounds beautiful kept clean, lack respect guests not return resort, excursions went, outback safari good, truck countryside reality check life really like dominican people, recommend, like outside pretty resort, people poor proud, typical dominican school education not mandatory typical dominican house tobacco farm, cultural tour, end trip macoa beach looks beach blue lagoon, went saona island, waste money thought, 2-hour bus ride place speed boat island 45 minutes, ride rough killed, stop natural pool live star fish, saw 2. people picking keeping water suspect dying, island nothing, beach filled seaweed pretty rocky, beach chairs hammocks, typical dominican lunch sent husband bathroom quickly, open bar course meringue lessons choose, catamaran 1 1/2 hrs, nice trip booze flowing freely sort thing, young guy boat vomiting drinking n't fun, trip marinarium swim nurse sharks stingrays, unique experience, warn snorkeling equipment not let use fins, coral reef n't impressive, sharks stingrays caged area n't big, 5 6 sharks 4 stingrays, taken natural pool ocean served drinks water floating bar, half day drip.on different note like warn shopping area resort, shops resort people nuisance, cheapy cheapy chase, n't no answer stuff junk, beware fake jewelry, beware lobby shop, went souveniers girl followed like common thieves, totally disrespectful, couple 40s not shoplifting, overall beautiful resort prefer cancun mayan riviera, questions feel free email, happy answer questions,  \n"
          ]
        }
      ]
    },
    {
      "cell_type": "code",
      "metadata": {
        "id": "FKbW3-IZ7MiT"
      },
      "source": [
        "\n",
        "from sklearn.model_selection import train_test_split\n",
        "\n",
        "X_train, X_test, y_train, y_test = train_test_split(df_eng['Review'], df_eng['sentiment'])\n"
      ],
      "execution_count": 9,
      "outputs": []
    },
    {
      "cell_type": "code",
      "metadata": {
        "id": "znvOckq3-zCu"
      },
      "source": [
        "data2 = text_preprocessing(X_test)"
      ],
      "execution_count": 10,
      "outputs": []
    },
    {
      "cell_type": "code",
      "metadata": {
        "colab": {
          "base_uri": "https://localhost:8080/",
          "height": 0
        },
        "id": "UzpWu3pH_i6H",
        "outputId": "e11217e0-8076-4422-8237-413f1d83b5ee"
      },
      "source": [
        "\n",
        "#After Text Preprocessing\n",
        "print(data2[0])"
      ],
      "execution_count": 11,
      "outputs": [
        {
          "output_type": "stream",
          "name": "stdout",
          "text": [
            "loved meurice returned stay meurice treated able upgrade aniversary gave room balcony overlooking garden eiffel tower view sent bottle champagne treat definitely stay location great walked package obtained website included breakfast breakfast served star restaurant service incredible food great felt like dinner\n"
          ]
        }
      ]
    },
    {
      "cell_type": "code",
      "metadata": {
        "id": "EiZlZSYT7ayt"
      },
      "source": [
        "from sklearn.feature_extraction.text import TfidfVectorizer\n",
        "vectorizer = TfidfVectorizer(ngram_range=(1,2),max_features=5000)\n",
        "\n",
        "train_vec = vectorizer.fit_transform(X_train)\n",
        "test_vec = vectorizer.transform(X_test)"
      ],
      "execution_count": 12,
      "outputs": []
    },
    {
      "cell_type": "code",
      "metadata": {
        "colab": {
          "base_uri": "https://localhost:8080/",
          "height": 0
        },
        "id": "_SWGzZbS7fi2",
        "outputId": "4aa6aa39-287b-4139-db50-c6e25d55d22b"
      },
      "source": [
        "print(train_vec.shape)\n",
        "print(test_vec.shape)\n",
        "print(len(vectorizer.vocabulary_))"
      ],
      "execution_count": 22,
      "outputs": [
        {
          "output_type": "stream",
          "name": "stdout",
          "text": [
            "(9201, 5000)\n",
            "(3067, 5000)\n",
            "5000\n"
          ]
        }
      ]
    },
    {
      "cell_type": "code",
      "metadata": {
        "id": "V1pbfRtUGCJf"
      },
      "source": [
        "from sklearn.linear_model import LogisticRegression\n",
        "\n",
        "clsf = LogisticRegression()\n",
        "clsf.fit(train_vec,y_train)\n",
        "y_pred = clsf.predict(test_vec)"
      ],
      "execution_count": 14,
      "outputs": []
    },
    {
      "cell_type": "code",
      "metadata": {
        "colab": {
          "base_uri": "https://localhost:8080/",
          "height": 0
        },
        "id": "oiGFQ818HzYT",
        "outputId": "fd01be90-ab9d-4463-b179-c4137942283c"
      },
      "source": [
        "from sklearn.metrics import classification_report, confusion_matrix\n",
        "print(confusion_matrix(y_test, y_pred))\n",
        "print(classification_report(y_test, y_pred))"
      ],
      "execution_count": 15,
      "outputs": [
        {
          "output_type": "stream",
          "name": "stdout",
          "text": [
            "[[2245   13]\n",
            " [  96  713]]\n",
            "              precision    recall  f1-score   support\n",
            "\n",
            "       happy       0.96      0.99      0.98      2258\n",
            "     unhappy       0.98      0.88      0.93       809\n",
            "\n",
            "    accuracy                           0.96      3067\n",
            "   macro avg       0.97      0.94      0.95      3067\n",
            "weighted avg       0.97      0.96      0.96      3067\n",
            "\n"
          ]
        }
      ]
    },
    {
      "cell_type": "code",
      "metadata": {
        "id": "JnflSXSHMKAG",
        "colab": {
          "base_uri": "https://localhost:8080/",
          "height": 0
        },
        "outputId": "30e89056-bc71-4fad-854f-263cb4d49d05"
      },
      "source": [
        "from sklearn.metrics import accuracy_score\n",
        "accuracy1 = accuracy_score(y_test,y_pred)\n",
        "print('accuracy of logistic regression',accuracy1,'\\n')"
      ],
      "execution_count": 68,
      "outputs": [
        {
          "output_type": "stream",
          "name": "stdout",
          "text": [
            "accuracy of logistic regression 0.9028366481904141 \n",
            "\n"
          ]
        }
      ]
    },
    {
      "cell_type": "code",
      "metadata": {
        "colab": {
          "base_uri": "https://localhost:8080/",
          "height": 0
        },
        "id": "po79JtpbDcWR",
        "outputId": "619588df-c5c9-4e6b-900f-0dfe7d41db94"
      },
      "source": [
        "#predicting for custom user input review\n",
        "\n",
        "sample1 =[]\n",
        "sample = \"this hotel normal \"\n",
        "sample1.append(text_test_preprocessing(sample))\n",
        "clsf.predict(vectorizer.transform(sample1))\n"
      ],
      "execution_count": 69,
      "outputs": [
        {
          "output_type": "execute_result",
          "data": {
            "text/plain": [
              "array(['happy'], dtype=object)"
            ]
          },
          "metadata": {},
          "execution_count": 69
        }
      ]
    },
    {
      "cell_type": "code",
      "metadata": {
        "id": "Py0Xsek2SnzV",
        "colab": {
          "base_uri": "https://localhost:8080/",
          "height": 0
        },
        "outputId": "3c94a512-33a2-4105-8936-aa64ee30d5a3"
      },
      "source": [
        "#using k nearest nighbour\n",
        "from sklearn.metrics import accuracy_score\n",
        "from sklearn.neighbors import KNeighborsClassifier\n",
        "\n",
        "l =[]\n",
        "KList = [1,3,5,7,9,11,13,15,21,27]\n",
        "for k in KList:\n",
        "  classifier = KNeighborsClassifier(n_neighbors=k)\n",
        "  classifier.fit(train_vec,y_train)\n",
        "  y_pred = classifier.predict(test_vec)\n",
        "  a = accuracy_score(y_test,y_pred)\n",
        "  l.append(a)\n",
        "accuracy2 = max(l)\n",
        "print('accuracy of KNN',accuracy2,'\\n')"
      ],
      "execution_count": 70,
      "outputs": [
        {
          "output_type": "stream",
          "name": "stdout",
          "text": [
            "accuracy of KNN 0.9028366481904141 \n",
            "\n"
          ]
        }
      ]
    },
    {
      "cell_type": "code",
      "metadata": {
        "id": "mSwOTuT8iu9T"
      },
      "source": [
        "#using support vector machine\n",
        "\n",
        "from sklearn.svm import SVC\n",
        "svm = SVC(C=1, kernel='linear', random_state=1)\n",
        "svm.fit(train_vec,y_train)\n",
        "y_pred = svm.predict(test_vec)"
      ],
      "execution_count": 71,
      "outputs": []
    },
    {
      "cell_type": "code",
      "metadata": {
        "colab": {
          "base_uri": "https://localhost:8080/",
          "height": 0
        },
        "id": "8EnL3exoi17g",
        "outputId": "1a08cfef-6890-4a1b-a711-2b5a5b9f02fb"
      },
      "source": [
        "from sklearn.metrics import accuracy_score\n",
        "accuracy3 = accuracy_score(y_test,y_pred)\n",
        "print('accuracy of SVM',accuracy3,'\\n')"
      ],
      "execution_count": 72,
      "outputs": [
        {
          "output_type": "stream",
          "name": "stdout",
          "text": [
            "accuracy of SVM 0.9719595696119987 \n",
            "\n"
          ]
        }
      ]
    },
    {
      "cell_type": "code",
      "metadata": {
        "colab": {
          "base_uri": "https://localhost:8080/",
          "height": 0
        },
        "id": "iPS3qeNHi2fQ",
        "outputId": "4cf45343-98f6-40c9-ed59-260c111d9bd4"
      },
      "source": [
        "print(\"average of accuracies \",(accuracy1+accuracy2+accuracy3)/3)"
      ],
      "execution_count": 73,
      "outputs": [
        {
          "output_type": "stream",
          "name": "stdout",
          "text": [
            "average of accuracies  0.9258776219976089\n"
          ]
        }
      ]
    },
    {
      "cell_type": "code",
      "metadata": {
        "colab": {
          "base_uri": "https://localhost:8080/",
          "height": 350
        },
        "id": "XlX8BeX1ASTa",
        "outputId": "f229b739-18c5-40b6-9e77-c21d08b1376b"
      },
      "source": [
        "data = {'logestic':accuracy1, 'knn':accuracy2, 'svm':accuracy3}\n",
        "courses = list(data.keys())\n",
        "values = list(data.values())\n",
        "  \n",
        "fig = plt.figure(figsize = (10, 5))\n",
        " \n",
        "# creating the bar plot\n",
        "plt.bar(courses, values, color ='maroon',\n",
        "        width = 0.4)\n",
        " \n",
        "plt.xlabel(\"algorithms\")\n",
        "plt.ylabel(\"accuracy\")\n",
        "plt.title(\"accuracy comparision\")\n",
        "plt.show()"
      ],
      "execution_count": 110,
      "outputs": [
        {
          "output_type": "display_data",
          "data": {
            "image/png": "[encoded data removed]",
            "text/plain": [
              "<Figure size 720x360 with 1 Axes>"
            ]
          },
          "metadata": {
            "needs_background": "light"
          }
        }
      ]
    },
    {
      "cell_type": "code",
      "metadata": {
        "id": "mpfN_3PEIY0d"
      },
      "source": [
        ""
      ],
      "execution_count": null,
      "outputs": []
    }
  ]
}